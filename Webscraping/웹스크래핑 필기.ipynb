{
 "cells": [
  {
   "cell_type": "markdown",
   "metadata": {},
   "source": [
    "# 필요한 패키지\n",
    "----"
   ]
  },
  {
   "cell_type": "markdown",
   "metadata": {},
   "source": [
    "## urllib.request의 urlopen \n",
    "가장 기본적인 웹페이지를 여는 기능<br>\n",
    "res = urlopen('http://www.naver.com') \n",
    "## bs4의 BeautifulSoup \n",
    "urlopen을 이용해서 불러온 html을 parser로 분리하는 작업 <br> \n",
    "## selenium 의 webdriver \n",
    "마우스 클릭 또는 값 입력 등의 동작이 필요할 때 사용하는 패키지 "
   ]
  },
  {
   "cell_type": "code",
   "execution_count": 1,
   "metadata": {},
   "outputs": [],
   "source": [
    "from urllib.request import urlopen  \n",
    "from bs4 import BeautifulSoup\n",
    "from selenium import webdriver\n",
    "\n",
    "#데이터 편집에 필요한 기본 패키지 \n",
    "import pandas as pd  \n",
    "import numpy as np  \n",
    "import re \n",
    "import time "
   ]
  },
  {
   "cell_type": "markdown",
   "metadata": {},
   "source": [
    "# 홈페이지 유형에 따른 패키지 선택\n",
    "웹 스크래핑의 기본 흐름: \n",
    "* 웹페이지 오픈, html 소스 다운로드 \n",
    "* 다운로드한 html 소스를 태그별로 구분 \n",
    "* 필요한 태그를 class와 id 등을 활용하여 선택 "
   ]
  },
  {
   "cell_type": "markdown",
   "metadata": {},
   "source": [
    "## selenium이 필요없는 경우\n",
    "1. 웹페이지에서 특정 링크를 클릭하거나 텍스트를 입력할 필요가 없는 경우 \n",
    "2. 방문하려는 모든 웹페이지의 url을 확보할 수 있는 경우 \n",
    "3. 웹페이지가 iframe으로 작성되지 않아 필요한 정보를 바로 획득할 수 있는 경우<br>\n",
    "**그 외 웹페이지에서 정교한 동작이 필요할 때에는 selenium을 사용하는 것이 좋음**"
   ]
  },
  {
   "cell_type": "markdown",
   "metadata": {},
   "source": [
    "# 스크래핑 연습"
   ]
  },
  {
   "cell_type": "code",
   "execution_count": null,
   "metadata": {},
   "outputs": [],
   "source": []
  }
 ],
 "metadata": {
  "kernelspec": {
   "display_name": "Python 3",
   "language": "python",
   "name": "python3"
  },
  "language_info": {
   "codemirror_mode": {
    "name": "ipython",
    "version": 3
   },
   "file_extension": ".py",
   "mimetype": "text/x-python",
   "name": "python",
   "nbconvert_exporter": "python",
   "pygments_lexer": "ipython3",
   "version": "3.7.0"
  },
  "toc": {
   "base_numbering": 1,
   "nav_menu": {
    "height": "108px",
    "width": "277px"
   },
   "number_sections": true,
   "sideBar": true,
   "skip_h1_title": false,
   "title_cell": "Table of Contents",
   "title_sidebar": "Contents",
   "toc_cell": false,
   "toc_position": {
    "height": "calc(100% - 180px)",
    "left": "10px",
    "top": "150px",
    "width": "254.594px"
   },
   "toc_section_display": true,
   "toc_window_display": true
  }
 },
 "nbformat": 4,
 "nbformat_minor": 2
}
