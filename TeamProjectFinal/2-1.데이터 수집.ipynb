{
 "cells": [
  {
   "cell_type": "markdown",
   "metadata": {},
   "source": [
    "# 데이터 수집 \n",
    "## 데이터 저장에 필요한 데이터베이스 생성(SQLite)\n",
    "**데이터베이스명** : TeamProjectFinal"
   ]
  },
  {
   "cell_type": "code",
   "execution_count": 1,
   "metadata": {
    "scrolled": true
   },
   "outputs": [
    {
     "data": {
      "text/html": [
       "<div>\n",
       "<style scoped>\n",
       "    .dataframe tbody tr th:only-of-type {\n",
       "        vertical-align: middle;\n",
       "    }\n",
       "\n",
       "    .dataframe tbody tr th {\n",
       "        vertical-align: top;\n",
       "    }\n",
       "\n",
       "    .dataframe thead th {\n",
       "        text-align: right;\n",
       "    }\n",
       "</style>\n",
       "<table border=\"1\" class=\"dataframe\">\n",
       "  <thead>\n",
       "    <tr style=\"text-align: right;\">\n",
       "      <th></th>\n",
       "      <th>tbl_name</th>\n",
       "    </tr>\n",
       "  </thead>\n",
       "  <tbody>\n",
       "    <tr>\n",
       "      <th>0</th>\n",
       "      <td>cafe_post_list_naver_test</td>\n",
       "    </tr>\n",
       "    <tr>\n",
       "      <th>1</th>\n",
       "      <td>cafe_post_comment_naver</td>\n",
       "    </tr>\n",
       "    <tr>\n",
       "      <th>2</th>\n",
       "      <td>cafe_post_contents_naver</td>\n",
       "    </tr>\n",
       "    <tr>\n",
       "      <th>3</th>\n",
       "      <td>cafe_post_list_naver</td>\n",
       "    </tr>\n",
       "    <tr>\n",
       "      <th>4</th>\n",
       "      <td>comments_hy_kona_naver</td>\n",
       "    </tr>\n",
       "    <tr>\n",
       "      <th>5</th>\n",
       "      <td>commnets_kia_stonic_naver</td>\n",
       "    </tr>\n",
       "    <tr>\n",
       "      <th>6</th>\n",
       "      <td>commnets_sam_qm3_naver</td>\n",
       "    </tr>\n",
       "    <tr>\n",
       "      <th>7</th>\n",
       "      <td>commnets_ssy_tivoli_naver</td>\n",
       "    </tr>\n",
       "    <tr>\n",
       "      <th>8</th>\n",
       "      <td>kona</td>\n",
       "    </tr>\n",
       "    <tr>\n",
       "      <th>9</th>\n",
       "      <td>kona_total</td>\n",
       "    </tr>\n",
       "    <tr>\n",
       "      <th>10</th>\n",
       "      <td>news_hy_corna_naver</td>\n",
       "    </tr>\n",
       "    <tr>\n",
       "      <th>11</th>\n",
       "      <td>news_kia_stonic_naver</td>\n",
       "    </tr>\n",
       "    <tr>\n",
       "      <th>12</th>\n",
       "      <td>news_sam_qm3_naver</td>\n",
       "    </tr>\n",
       "    <tr>\n",
       "      <th>13</th>\n",
       "      <td>news_sy_tivoli_naver</td>\n",
       "    </tr>\n",
       "    <tr>\n",
       "      <th>14</th>\n",
       "      <td>qm3</td>\n",
       "    </tr>\n",
       "    <tr>\n",
       "      <th>15</th>\n",
       "      <td>qm3_total</td>\n",
       "    </tr>\n",
       "    <tr>\n",
       "      <th>16</th>\n",
       "      <td>stonic</td>\n",
       "    </tr>\n",
       "    <tr>\n",
       "      <th>17</th>\n",
       "      <td>stonic_total</td>\n",
       "    </tr>\n",
       "    <tr>\n",
       "      <th>18</th>\n",
       "      <td>tivoli</td>\n",
       "    </tr>\n",
       "    <tr>\n",
       "      <th>19</th>\n",
       "      <td>tivoli_total</td>\n",
       "    </tr>\n",
       "  </tbody>\n",
       "</table>\n",
       "</div>"
      ],
      "text/plain": [
       "                     tbl_name\n",
       "0   cafe_post_list_naver_test\n",
       "1     cafe_post_comment_naver\n",
       "2    cafe_post_contents_naver\n",
       "3        cafe_post_list_naver\n",
       "4      comments_hy_kona_naver\n",
       "5   commnets_kia_stonic_naver\n",
       "6      commnets_sam_qm3_naver\n",
       "7   commnets_ssy_tivoli_naver\n",
       "8                        kona\n",
       "9                  kona_total\n",
       "10        news_hy_corna_naver\n",
       "11      news_kia_stonic_naver\n",
       "12         news_sam_qm3_naver\n",
       "13       news_sy_tivoli_naver\n",
       "14                        qm3\n",
       "15                  qm3_total\n",
       "16                     stonic\n",
       "17               stonic_total\n",
       "18                     tivoli\n",
       "19               tivoli_total"
      ]
     },
     "execution_count": 1,
     "metadata": {},
     "output_type": "execute_result"
    }
   ],
   "source": [
    "import pandas as pd \n",
    "import numpy as np  \n",
    "from pyfile.connect2db import * # 데이터베이스 연결\n",
    "conn,cursor = create_con()\n",
    "# DB에 있는 테이블 목록 확인하기\n",
    "pd.read_sql('select tbl_name from sqlite_master;',conn)"
   ]
  },
  {
   "cell_type": "markdown",
   "metadata": {},
   "source": [
    "### 카페 게시글 수집에 필요한 데이터 생성 "
   ]
  },
  {
   "cell_type": "code",
   "execution_count": 2,
   "metadata": {},
   "outputs": [],
   "source": [
    "# create_post_list_table(conn,cursor)"
   ]
  },
  {
   "cell_type": "markdown",
   "metadata": {},
   "source": [
    "## 자동차 판매량 데이터 수집\n",
    "공공 데이터 포털에서 코나, 티볼리, 스토닉, QM3의 데이터를 불러오기 "
   ]
  },
  {
   "cell_type": "code",
   "execution_count": 3,
   "metadata": {},
   "outputs": [
    {
     "name": "stdout",
     "output_type": "stream",
     "text": [
      "XML을 파싱 후 2019년 5월 부산(2) 40대(4) 여성이 등록한 코나(006987) 대수 8건의 정보를 가져왔습니다.\n"
     ]
    }
   ],
   "source": [
    "from urllib.request import Request, urlopen\n",
    "from urllib.parse import urlencode, quote_plus, unquote\n",
    "from xml.etree import ElementTree\n",
    "\n",
    "decode_key = unquote('xc4D5ifBCowmhcub66MRZfZGkwDJ05AUj4Quu5kV7in%2Fp8HB5CAUFNbvvxtCf2llE5NPDuI7x4P4vEeVNbw1OA%3D%3D')\n",
    "\n",
    "url = 'http://apis.data.go.kr/B553881/newRegistInfoService/newRegistInfoService'\n",
    "queryParams = '?' + urlencode({ \n",
    "quote_plus('ServiceKey') : decode_key, \n",
    "                               quote_plus('ServiceKey') : decode_key, \n",
    "                               quote_plus('registYy') : '2019',     # 등록년\n",
    "                               quote_plus('registMt') : '05',       # 등록월\n",
    "                               quote_plus('vhctyAsortCode') : '1',  # 차종코드 (1.경형)\n",
    "                               quote_plus('registGrcCode') : '2',   # 등록지역코드 (1.서울 / 2.부산 / 3.대구 / 4.인천 / 5.광주 / 6.대전 / 7.울산 / 8.세종 / 9.경기 / 10.강원 / 11.충북 / 12.충남 / 13.전북 / 14.전남 / 15.경북 / 16.경남 / 17.제주)\n",
    "                               quote_plus('useFuelCode') : '9',     # 연료코드 (2.경유 / 6.전기 / 8.하이브리드(휘발유+전기) / 9.휘발유\n",
    "                               quote_plus('cnmCode') : '006987',    # 차명코드\n",
    "                               quote_plus('prposSeNm') : '1',       # 용도구분 (1.자가용)\n",
    "                               quote_plus('sexdstn') : '여자',      # 성별 (남자 / 여자)\n",
    "                               quote_plus('agrde') : '4',           # 연령 (1.10대 / 2.20대 / 3.30대 / 4.40대 / 5.50대 / 6.60대 /7.70대 / 8.80대)\n",
    "                               quote_plus('dsplvlCode') : '4',      # 배기량코드 (1.800cc미만 / 2.1000cc미만 / 3.1500cc미만 / 4.2000cc미만)\n",
    "                               quote_plus('hmmdImpSeNm') : '국산',  # 국가 (국산)\n",
    "                               quote_plus('prye') : '2019' })       # 모델년도\n",
    "\n",
    "request = Request(url + queryParams)\n",
    "request.get_method = lambda: 'GET'\n",
    "response_body = urlopen(request).read().decode('utf-8')\n",
    "\n",
    "root = ElementTree.fromstring(response_body)\n",
    "total = root.find(\"body\").find(\"dtaCo\")\n",
    "\n",
    "print('XML을 파싱 후 2019년 5월 부산(2) 40대(4) 여성이 등록한 코나(006987) 대수 {}건의 정보를 가져왔습니다.'.format(total.text))"
   ]
  },
  {
   "cell_type": "markdown",
   "metadata": {},
   "source": [
    "## 네이버 뉴스 스크래핑"
   ]
  },
  {
   "cell_type": "code",
   "execution_count": 4,
   "metadata": {},
   "outputs": [],
   "source": [
    "from pyfile.news_scraping import * \n",
    "import os "
   ]
  },
  {
   "cell_type": "code",
   "execution_count": 5,
   "metadata": {},
   "outputs": [
    {
     "name": "stdout",
     "output_type": "stream",
     "text": [
      "==================================================\n",
      "입력 형식에 맞게 입력해주세요.\n",
      "시작하시려면 Enter를 눌러주세요.\n",
      "==================================================\n",
      "최대 크롤링할 페이지 수 입력하시오: 1\n",
      "검색어 입력: 베뉴\n",
      "뉴스 검색 방식 입력(관련도순=0, 최신순=1, 오래된순=2): 1\n",
      "시작날짜 입력(YYYY.MM.DD): 2019.07.01\n",
      "끝날짜 입력(YYYY.MM.DD): 2019.07.02\n",
      "1\n",
      "크롤링이 완료되었습니다.\n",
      "스크래핑 된 파일 목록입니다\n"
     ]
    },
    {
     "data": {
      "text/plain": [
       "['2019-7-19  13시 0분 56초 merging.xlsx']"
      ]
     },
     "execution_count": 5,
     "metadata": {},
     "output_type": "execute_result"
    }
   ],
   "source": [
    "'''''''''''''''''''''''''''''''''''''''''''''''''''''''''\n",
    "< naver 뉴스 검색시 리스트 크롤링하는 프로그램 > _select사용\n",
    "- 크롤링 해오는 것 : 링크,제목,신문사,날짜,내용요약본\n",
    "- 날짜,내용요약본  -> 정제 작업 필요\n",
    "- 리스트 -> 딕셔너리 -> df -> 엑셀로 저장 \n",
    "'''''''''''''''''''''''''''''''''''''''''''''''''''''''''\n",
    "main()\n",
    "print('스크래핑 된 파일 목록입니다')\n",
    "os.listdir('./data/news/')"
   ]
  },
  {
   "cell_type": "markdown",
   "metadata": {},
   "source": [
    "## 네이버 카페 게시글 및 댓글 스크래핑 \n",
    "게시글 10개 페이지만 스크래핑 해서 cafe_post_list_naver_test에 저장 "
   ]
  },
  {
   "cell_type": "code",
   "execution_count": 6,
   "metadata": {},
   "outputs": [],
   "source": [
    "from pyfile.cafe_scraping import * \n",
    "from selenium import webdriver\n",
    "from bs4 import BeautifulSoup\n",
    "from urllib.request import urlopen\n",
    "import time \n",
    "\n",
    "# 네이버 로그인 \n",
    "driver = login_to_naver('mindal0115','nalzoest1807')\n",
    "\n",
    "# 오픈할 카페와 게시판 지정 \n",
    "cafe_url = 'https://cafe.naver.com/jsmusic'\n",
    "menu = '//*[@id=\"menuLink215\"]'\n",
    "get_to_cafe(driver,cafe_url,menu)\n",
    "\n",
    "# 게시글 목록 수집\n",
    "# scrap_post(driver,conn,cursor)"
   ]
  },
  {
   "cell_type": "code",
   "execution_count": 7,
   "metadata": {},
   "outputs": [
    {
     "data": {
      "text/html": [
       "<div>\n",
       "<style scoped>\n",
       "    .dataframe tbody tr th:only-of-type {\n",
       "        vertical-align: middle;\n",
       "    }\n",
       "\n",
       "    .dataframe tbody tr th {\n",
       "        vertical-align: top;\n",
       "    }\n",
       "\n",
       "    .dataframe thead th {\n",
       "        text-align: right;\n",
       "    }\n",
       "</style>\n",
       "<table border=\"1\" class=\"dataframe\">\n",
       "  <thead>\n",
       "    <tr style=\"text-align: right;\">\n",
       "      <th></th>\n",
       "      <th>board_number</th>\n",
       "      <th>article</th>\n",
       "      <th>p_nick</th>\n",
       "      <th>p_date</th>\n",
       "      <th>p_view</th>\n",
       "    </tr>\n",
       "  </thead>\n",
       "  <tbody>\n",
       "    <tr>\n",
       "      <th>0</th>\n",
       "      <td>1035033</td>\n",
       "      <td>제차만 그럴까요??ㅠㅠ</td>\n",
       "      <td>경남ll꼬꼬댁</td>\n",
       "      <td>2019-07-05</td>\n",
       "      <td>80</td>\n",
       "    </tr>\n",
       "    <tr>\n",
       "      <th>1</th>\n",
       "      <td>1034978</td>\n",
       "      <td>18인치 순정 휠타이어 구매하고싶습니다~</td>\n",
       "      <td>서울ll히츠블루</td>\n",
       "      <td>2019-07-05</td>\n",
       "      <td>50</td>\n",
       "    </tr>\n",
       "    <tr>\n",
       "      <th>2</th>\n",
       "      <td>1034948</td>\n",
       "      <td>코나 안전벨트 소리 안나게할수있을까요?</td>\n",
       "      <td>경기고양ll호나</td>\n",
       "      <td>2019-07-18</td>\n",
       "      <td>113</td>\n",
       "    </tr>\n",
       "    <tr>\n",
       "      <th>3</th>\n",
       "      <td>1034941</td>\n",
       "      <td>출고한지 한달도 안됐는데 브레이크..</td>\n",
       "      <td>경기화성llk532</td>\n",
       "      <td>2019-07-18</td>\n",
       "      <td>139</td>\n",
       "    </tr>\n",
       "    <tr>\n",
       "      <th>4</th>\n",
       "      <td>1034936</td>\n",
       "      <td>기름 만땅시 몇일 탈수 있나요?</td>\n",
       "      <td>아산ll동동</td>\n",
       "      <td>2019-07-18</td>\n",
       "      <td>191</td>\n",
       "    </tr>\n",
       "  </tbody>\n",
       "</table>\n",
       "</div>"
      ],
      "text/plain": [
       "   board_number                 article      p_nick     p_date  p_view\n",
       "0       1035033            제차만 그럴까요??ㅠㅠ     경남ll꼬꼬댁 2019-07-05      80\n",
       "1       1034978  18인치 순정 휠타이어 구매하고싶습니다~    서울ll히츠블루 2019-07-05      50\n",
       "2       1034948   코나 안전벨트 소리 안나게할수있을까요?    경기고양ll호나 2019-07-18     113\n",
       "3       1034941    출고한지 한달도 안됐는데 브레이크..  경기화성llk532 2019-07-18     139\n",
       "4       1034936       기름 만땅시 몇일 탈수 있나요?      아산ll동동 2019-07-18     191"
      ]
     },
     "execution_count": 7,
     "metadata": {},
     "output_type": "execute_result"
    }
   ],
   "source": [
    "df = pd.read_sql('select * from cafe_post_list_naver_test;',conn,parse_dates=['p_date'])\n",
    "df.iloc[0:5,:]"
   ]
  }
 ],
 "metadata": {
  "kernelspec": {
   "display_name": "Python 3",
   "language": "python",
   "name": "python3"
  },
  "language_info": {
   "codemirror_mode": {
    "name": "ipython",
    "version": 3
   },
   "file_extension": ".py",
   "mimetype": "text/x-python",
   "name": "python",
   "nbconvert_exporter": "python",
   "pygments_lexer": "ipython3",
   "version": "3.6.5"
  },
  "toc": {
   "base_numbering": 1,
   "nav_menu": {},
   "number_sections": true,
   "sideBar": true,
   "skip_h1_title": false,
   "title_cell": "Table of Contents",
   "title_sidebar": "Contents",
   "toc_cell": false,
   "toc_position": {},
   "toc_section_display": true,
   "toc_window_display": true
  },
  "varInspector": {
   "cols": {
    "lenName": 16,
    "lenType": 16,
    "lenVar": 40
   },
   "kernels_config": {
    "python": {
     "delete_cmd_postfix": "",
     "delete_cmd_prefix": "del ",
     "library": "var_list.py",
     "varRefreshCmd": "print(var_dic_list())"
    },
    "r": {
     "delete_cmd_postfix": ") ",
     "delete_cmd_prefix": "rm(",
     "library": "var_list.r",
     "varRefreshCmd": "cat(var_dic_list()) "
    }
   },
   "position": {
    "height": "144px",
    "left": "408px",
    "right": "20px",
    "top": "118px",
    "width": "350px"
   },
   "types_to_exclude": [
    "module",
    "function",
    "builtin_function_or_method",
    "instance",
    "_Feature"
   ],
   "window_display": false
  }
 },
 "nbformat": 4,
 "nbformat_minor": 2
}
